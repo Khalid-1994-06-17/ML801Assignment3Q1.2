{
 "cells": [
  {
   "cell_type": "code",
   "execution_count": 8,
   "id": "7600b889-b5e9-4b7a-8d54-b00942304b76",
   "metadata": {},
   "outputs": [
    {
     "name": "stdout",
     "output_type": "stream",
     "text": [
      "tensor([[0.9933],\n",
      "        [0.0067],\n",
      "        [0.0067],\n",
      "        [0.9933]], grad_fn=<SigmoidBackward0>)\n"
     ]
    }
   ],
   "source": [
    "import torch\n",
    "import torch.nn as nn\n",
    "\n",
    "class XNORNet(nn.Module):\n",
    "    def __init__(self):\n",
    "        super(XNORNet, self).__init__()\n",
    "        self.layer1 = nn.Linear(2, 2)\n",
    "        self.layer2 = nn.Linear(2, 1)\n",
    "\n",
    "    def forward(self, x):\n",
    "        x = torch.sigmoid(self.layer1(x))\n",
    "        x = torch.sigmoid(self.layer2(x))\n",
    "        return x\n",
    "\n",
    "net = XNORNet()\n",
    "\n",
    "with torch.no_grad():\n",
    "    net.layer1.weight.data = torch.tensor([[20, 20], [-20, -20]], dtype=torch.float32)\n",
    "    net.layer1.bias.data = torch.tensor([-30, 10], dtype=torch.float32)\n",
    "    net.layer2.weight.data = torch.tensor([[10, 10]], dtype=torch.float32)\n",
    "    net.layer2.bias.data = torch.tensor([-5], dtype=torch.float32)\n",
    "\n",
    "inputs = torch.tensor([[0,0], [0,1], [1,0], [1,1]], dtype=torch.float32)\n",
    "outputs = net(inputs)\n",
    "print(outputs)"
   ]
  },
  {
   "cell_type": "code",
   "execution_count": null,
   "id": "3d23c9b8-4f34-4248-9c3d-498f564de1cb",
   "metadata": {},
   "outputs": [],
   "source": []
  }
 ],
 "metadata": {
  "kernelspec": {
   "display_name": "Python 3 (ipykernel)",
   "language": "python",
   "name": "python3"
  },
  "language_info": {
   "codemirror_mode": {
    "name": "ipython",
    "version": 3
   },
   "file_extension": ".py",
   "mimetype": "text/x-python",
   "name": "python",
   "nbconvert_exporter": "python",
   "pygments_lexer": "ipython3",
   "version": "3.10.9"
  }
 },
 "nbformat": 4,
 "nbformat_minor": 5
}
